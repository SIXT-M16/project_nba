{
 "cells": [
  {
   "cell_type": "markdown",
   "id": "f4caa776",
   "metadata": {},
   "source": [
    "Création du dictionnaire de données / quality document support. "
   ]
  },
  {
   "cell_type": "code",
   "execution_count": null,
   "id": "8c412b4b",
   "metadata": {},
   "outputs": [],
   "source": []
  }
 ],
 "metadata": {
  "language_info": {
   "name": "python"
  }
 },
 "nbformat": 4,
 "nbformat_minor": 5
}
