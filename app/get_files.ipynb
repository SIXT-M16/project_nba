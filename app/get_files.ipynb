{
 "cells": [
  {
   "cell_type": "markdown",
   "id": "ac6ecbf4",
   "metadata": {},
   "source": [
    "Script de récupération (téléchargement inital ou mise à jour) des fichiers CSV"
   ]
  },
  {
   "cell_type": "code",
   "execution_count": null,
   "id": "ea25c8bb",
   "metadata": {},
   "outputs": [],
   "source": [
    "#import des librairies\n",
    "import os\n",
    "import json\n",
    "from dotenv import load_dotenv"
   ]
  },
  {
   "cell_type": "code",
   "execution_count": null,
   "id": "1fbbb62d",
   "metadata": {},
   "outputs": [],
   "source": [
    "\n",
    "\n",
    "# Charger les variables d'environnement depuis .env\n",
    "load_dotenv()\n",
    "\n",
    "# Récupération des identifiants\n",
    "username = os.getenv(\"KAGGLE_USERNAME\")\n",
    "key = os.getenv(\"KAGGLE_KEY\")\n",
    "\n",
    "# Préparation du fichier .kaggle/kaggle.json\n",
    "kaggle_config_dir = os.path.expanduser(\"~/.kaggle\")\n",
    "kaggle_json_path = os.path.join(kaggle_config_dir, \"kaggle.json\")\n",
    "\n",
    "os.makedirs(kaggle_config_dir, exist_ok=True)\n",
    "\n",
    "with open(kaggle_json_path, \"w\") as f:\n",
    "    json.dump({\"username\": username, \"key\": key}, f)\n",
    "\n",
    "os.chmod(kaggle_json_path, 0o600)\n",
    "\n",
    "# Téléchargement du dataset\n",
    "# ➤ Exemple : https://www.kaggle.com/datasets/drgilermo/nba-players-stats\n",
    "# ➤ Remplace par le lien réel si différent\n",
    "\n",
    "print(\"📥 Téléchargement en cours...\")\n",
    "\n",
    "os.system(\"kaggle datasets download -d drgilermo/nba-players-stats -p /app/files --unzip\")\n",
    "\n",
    "print(\"✅ Données téléchargées et extraites dans /app/files\")\n"
   ]
  }
 ],
 "metadata": {
  "language_info": {
   "name": "python"
  }
 },
 "nbformat": 4,
 "nbformat_minor": 5
}
